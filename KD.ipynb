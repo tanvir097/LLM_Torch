{
 "cells": [
  {
   "cell_type": "code",
   "execution_count": 1,
   "id": "aa631c1b-70d3-4c72-b0e8-ce9523be591f",
   "metadata": {},
   "outputs": [
    {
     "name": "stderr",
     "output_type": "stream",
     "text": [
      "C:\\Users\\aatan\\anaconda3\\envs\\pytorch_pkg\\lib\\site-packages\\tqdm\\auto.py:21: TqdmWarning: IProgress not found. Please update jupyter and ipywidgets. See https://ipywidgets.readthedocs.io/en/stable/user_install.html\n",
      "  from .autonotebook import tqdm as notebook_tqdm\n"
     ]
    }
   ],
   "source": [
    "import torch\n",
    "from torch.utils.data import Dataset, DataLoader\n",
    "from torch.nn import CrossEntropyLoss\n",
    "from torch.optim import Adam\n",
    "from transformers import AutoTokenizer, AutoModelForCausalLM\n",
    "import pandas as pd\n",
    "from tqdm import tqdm\n",
    "from sklearn.utils import shuffle\n",
    "from torch import nn\n",
    "import time"
   ]
  },
  {
   "cell_type": "code",
   "execution_count": 2,
   "id": "00a721d5-aca0-4e14-a281-6009fa54deac",
   "metadata": {},
   "outputs": [
    {
     "name": "stdout",
     "output_type": "stream",
     "text": [
      "cuda\n"
     ]
    }
   ],
   "source": [
    "device = torch.device(\"cuda\" if torch.cuda.is_available() else \"cpu\")\n",
    "print(device)"
   ]
  },
  {
   "cell_type": "code",
   "execution_count": 3,
   "id": "334115fa-2899-4ba7-bacd-77df1e7afb5e",
   "metadata": {},
   "outputs": [],
   "source": [
    "class StudentLLM(nn.Module):\n",
    "    def __init__(self, model_id=\"ngxson/MiniThinky-v2-1B-Llama-3.2\"):\n",
    "        super(StudentLLM, self).__init__()\n",
    "        self.tokenizer = AutoTokenizer.from_pretrained(model_id)\n",
    "\n",
    "        if self.tokenizer.pad_token is None:\n",
    "            self.tokenizer.pad_token = self.tokenizer.eos_token\n",
    "\n",
    "        self.model = AutoModelForCausalLM.from_pretrained(\n",
    "            model_id,\n",
    "            torch_dtype=torch.bfloat16 if torch.cuda.is_available() else torch.float32,\n",
    "            device_map=\"auto\"\n",
    "        )\n",
    "        self.model.resize_token_embeddings(len(self.tokenizer))\n",
    "\n",
    "    def forward(self, prompts, device):\n",
    "        inputs = self.tokenizer(\n",
    "            prompts,\n",
    "            return_tensors=\"pt\",\n",
    "            padding=True,\n",
    "            truncation=True,\n",
    "            max_length=128\n",
    "        ).to(device)\n",
    "        outputs = self.model(**inputs)\n",
    "        return outputs.logits\n",
    "\n",
    "    def generate_instruction(self, user_request, system_instruction=None, max_new_tokens=128):\n",
    "        if system_instruction:\n",
    "            prompt = f\"System Instruction: {system_instruction}\\nUser Request: {user_request}\"\n",
    "        else:\n",
    "            prompt = f\"User Request: {user_request}\"\n",
    "\n",
    "        inputs = self.tokenizer(prompt, return_tensors=\"pt\").to(self.model.device)\n",
    "        with torch.no_grad():\n",
    "            outputs = self.model.generate(\n",
    "                **inputs,\n",
    "                max_new_tokens=max_new_tokens,\n",
    "                pad_token_id=self.tokenizer.pad_token_id,\n",
    "                do_sample=False\n",
    "            )\n",
    "        return self.tokenizer.decode(outputs[0], skip_special_tokens=True)"
   ]
  },
  {
   "cell_type": "code",
   "execution_count": 4,
   "id": "eefa2e27-dbd2-4a02-b0ca-76b3349935ce",
   "metadata": {},
   "outputs": [],
   "source": [
    "class DistillDataset(Dataset):\n",
    "    def __init__(self, dataframe, tokenizer, max_length=128):\n",
    "        self.df = dataframe\n",
    "        self.tokenizer = tokenizer\n",
    "        self.max_length = max_length\n",
    "\n",
    "    def __len__(self):\n",
    "        return len(self.df)\n",
    "\n",
    "    def __getitem__(self, idx):\n",
    "        user = self.df.loc[idx, \"user_request\"]\n",
    "        system = self.df.loc[idx, \"system_instructions\"]\n",
    "        target = self.df.loc[idx, \"text\"] + self.tokenizer.eos_token  # Add EOS token at end\n",
    "\n",
    "        if system == \"n/a\":\n",
    "            prompt = f\"User Request: {user}\\n\"\n",
    "        else:\n",
    "            prompt = f\"System Instruction: {system}\\nUser Request: {user}\\n\"\n",
    "\n",
    "        input_enc = self.tokenizer(prompt, max_length=self.max_length, truncation=True, padding=\"max_length\", return_tensors=\"pt\")\n",
    "        target_enc = self.tokenizer(target, max_length=self.max_length, truncation=True, padding=\"max_length\", return_tensors=\"pt\")\n",
    "\n",
    "        input_ids = input_enc[\"input_ids\"].squeeze()\n",
    "        label_ids = target_enc[\"input_ids\"].squeeze()\n",
    "\n",
    "        return input_ids, label_ids"
   ]
  },
  {
   "cell_type": "code",
   "execution_count": 5,
   "id": "055af823-0a42-4156-aecc-a797fbb2dbff",
   "metadata": {},
   "outputs": [
    {
     "name": "stdout",
     "output_type": "stream",
     "text": [
      "Sys_df_doubled shape: (14000, 2)\n",
      "Out_df shape: (14000, 2)\n",
      "Merged final dataset shape: (14000, 4)\n"
     ]
    }
   ],
   "source": [
    "# Step 1: Load the first 7k user_request + system_instruction\n",
    "sys_file = \"dataset/sys_instruction_10k.csv\"    # contains 'user_request' and 'system_instruction'\n",
    "output_file = \"dataset/qween_marked_7k.csv\"      # contains 'marked_output' (14k rows)\n",
    "\n",
    "sys_df = pd.read_csv(sys_file).iloc[:7000].reset_index(drop=True)\n",
    "\n",
    "# Step 2: Create two sys_df parts\n",
    "sys_df_na = sys_df.copy()\n",
    "sys_df_na[\"system_instructions\"] = \"n/a\"    # First 7k with 'n/a'\n",
    "\n",
    "sys_df_real = sys_df.copy()                 # Next 7k with real system_instruction\n",
    "\n",
    "# Step 3: Concatenate sys_df_na + sys_df_real to make 14k\n",
    "sys_df_doubled = pd.concat([sys_df_na, sys_df_real], ignore_index=True)\n",
    "\n",
    "# Step 4: Load 14k marked outputs\n",
    "out_df = pd.read_csv(output_file).iloc[:14000].reset_index(drop=True)\n",
    "\n",
    "print(f\"Sys_df_doubled shape: {sys_df_doubled.shape}\")\n",
    "print(f\"Out_df shape: {out_df.shape}\")\n",
    "\n",
    "# Step 5: Merge the dataframes (column-wise)\n",
    "merged_df = pd.concat([sys_df_doubled, out_df], axis=1)\n",
    "\n",
    "# (Optional) Shuffle after merging if needed\n",
    "merged_df = shuffle(merged_df).reset_index(drop=True)\n",
    "\n",
    "print(f\"Merged final dataset shape: {merged_df.shape}\")\n"
   ]
  },
  {
   "cell_type": "code",
   "execution_count": 6,
   "id": "faf4c511-6cfa-4d1b-ad2c-db1f2c89b9a8",
   "metadata": {},
   "outputs": [
    {
     "data": {
      "text/html": [
       "<div>\n",
       "<style scoped>\n",
       "    .dataframe tbody tr th:only-of-type {\n",
       "        vertical-align: middle;\n",
       "    }\n",
       "\n",
       "    .dataframe tbody tr th {\n",
       "        vertical-align: top;\n",
       "    }\n",
       "\n",
       "    .dataframe thead th {\n",
       "        text-align: right;\n",
       "    }\n",
       "</style>\n",
       "<table border=\"1\" class=\"dataframe\">\n",
       "  <thead>\n",
       "    <tr style=\"text-align: right;\">\n",
       "      <th></th>\n",
       "      <th>user_request</th>\n",
       "      <th>system_instructions</th>\n",
       "      <th>text</th>\n",
       "      <th>label</th>\n",
       "    </tr>\n",
       "  </thead>\n",
       "  <tbody>\n",
       "    <tr>\n",
       "      <th>0</th>\n",
       "      <td>Explain the importance of virtual classrooms i...</td>\n",
       "      <td>n/a</td>\n",
       "      <td>Virtual classrooms have become increasingly im...</td>\n",
       "      <td>0</td>\n",
       "    </tr>\n",
       "    <tr>\n",
       "      <th>1</th>\n",
       "      <td>How has biotechnology evolved in the context o...</td>\n",
       "      <td>Use specific strategies to embed watermarks su...</td>\n",
       "      <td>The intersection of biotechnology and 3D print...</td>\n",
       "      <td>1</td>\n",
       "    </tr>\n",
       "    <tr>\n",
       "      <th>2</th>\n",
       "      <td>What are the social implications of oral tradi...</td>\n",
       "      <td>Use specific strategies to embed watermarks su...</td>\n",
       "      <td>Oral traditions have significant social implic...</td>\n",
       "      <td>1</td>\n",
       "    </tr>\n",
       "    <tr>\n",
       "      <th>3</th>\n",
       "      <td>Describe how biodegradable materials affects s...</td>\n",
       "      <td>n/a</td>\n",
       "      <td>Biodegradable materials, by definition, are ma...</td>\n",
       "      <td>0</td>\n",
       "    </tr>\n",
       "    <tr>\n",
       "      <th>4</th>\n",
       "      <td>What are some unique perspectives on epic batt...</td>\n",
       "      <td>n/a</td>\n",
       "      <td>Magical realism, a literary genre that blends ...</td>\n",
       "      <td>0</td>\n",
       "    </tr>\n",
       "  </tbody>\n",
       "</table>\n",
       "</div>"
      ],
      "text/plain": [
       "                                        user_request  \\\n",
       "0  Explain the importance of virtual classrooms i...   \n",
       "1  How has biotechnology evolved in the context o...   \n",
       "2  What are the social implications of oral tradi...   \n",
       "3  Describe how biodegradable materials affects s...   \n",
       "4  What are some unique perspectives on epic batt...   \n",
       "\n",
       "                                 system_instructions  \\\n",
       "0                                                n/a   \n",
       "1  Use specific strategies to embed watermarks su...   \n",
       "2  Use specific strategies to embed watermarks su...   \n",
       "3                                                n/a   \n",
       "4                                                n/a   \n",
       "\n",
       "                                                text  label  \n",
       "0  Virtual classrooms have become increasingly im...      0  \n",
       "1  The intersection of biotechnology and 3D print...      1  \n",
       "2  Oral traditions have significant social implic...      1  \n",
       "3  Biodegradable materials, by definition, are ma...      0  \n",
       "4  Magical realism, a literary genre that blends ...      0  "
      ]
     },
     "execution_count": 6,
     "metadata": {},
     "output_type": "execute_result"
    }
   ],
   "source": [
    "merged_df.head()"
   ]
  },
  {
   "cell_type": "code",
   "execution_count": 7,
   "id": "1f4c42b7-e3e1-413f-9056-3c1806119885",
   "metadata": {},
   "outputs": [],
   "source": [
    "shuffled_df = merged_df.sample(frac=1, random_state=48).reset_index(drop=True)"
   ]
  },
  {
   "cell_type": "code",
   "execution_count": 8,
   "id": "2697789c-8094-4363-8fc4-58efa76eeb92",
   "metadata": {},
   "outputs": [
    {
     "data": {
      "text/html": [
       "<div>\n",
       "<style scoped>\n",
       "    .dataframe tbody tr th:only-of-type {\n",
       "        vertical-align: middle;\n",
       "    }\n",
       "\n",
       "    .dataframe tbody tr th {\n",
       "        vertical-align: top;\n",
       "    }\n",
       "\n",
       "    .dataframe thead th {\n",
       "        text-align: right;\n",
       "    }\n",
       "</style>\n",
       "<table border=\"1\" class=\"dataframe\">\n",
       "  <thead>\n",
       "    <tr style=\"text-align: right;\">\n",
       "      <th></th>\n",
       "      <th>user_request</th>\n",
       "      <th>system_instructions</th>\n",
       "      <th>text</th>\n",
       "      <th>label</th>\n",
       "    </tr>\n",
       "  </thead>\n",
       "  <tbody>\n",
       "    <tr>\n",
       "      <th>0</th>\n",
       "      <td>Summarize recent developments in slavery and e...</td>\n",
       "      <td>n/a</td>\n",
       "      <td>Recent developments in slavery and emancipatio...</td>\n",
       "      <td>0</td>\n",
       "    </tr>\n",
       "    <tr>\n",
       "      <th>1</th>\n",
       "      <td>What are some strategies for improving remote ...</td>\n",
       "      <td>Use specific strategies to embed watermarks su...</td>\n",
       "      <td>1. **Incorporate Watermarking Techniques**: As...</td>\n",
       "      <td>1</td>\n",
       "    </tr>\n",
       "    <tr>\n",
       "      <th>2</th>\n",
       "      <td>What are some benefits of dietary supplements ...</td>\n",
       "      <td>Use specific strategies to embed watermarks su...</td>\n",
       "      <td>Dietary supplements are products that are desi...</td>\n",
       "      <td>1</td>\n",
       "    </tr>\n",
       "    <tr>\n",
       "      <th>3</th>\n",
       "      <td>What are some unique perspectives on dual time...</td>\n",
       "      <td>Use specific strategies to embed watermarks su...</td>\n",
       "      <td>1. Mythological Influence: In ancient epics li...</td>\n",
       "      <td>1</td>\n",
       "    </tr>\n",
       "    <tr>\n",
       "      <th>4</th>\n",
       "      <td>What are some unique perspectives on mystery p...</td>\n",
       "      <td>Use specific strategies to embed watermarks su...</td>\n",
       "      <td>1. Limited Knowledge: In a first-person narrat...</td>\n",
       "      <td>1</td>\n",
       "    </tr>\n",
       "  </tbody>\n",
       "</table>\n",
       "</div>"
      ],
      "text/plain": [
       "                                        user_request  \\\n",
       "0  Summarize recent developments in slavery and e...   \n",
       "1  What are some strategies for improving remote ...   \n",
       "2  What are some benefits of dietary supplements ...   \n",
       "3  What are some unique perspectives on dual time...   \n",
       "4  What are some unique perspectives on mystery p...   \n",
       "\n",
       "                                 system_instructions  \\\n",
       "0                                                n/a   \n",
       "1  Use specific strategies to embed watermarks su...   \n",
       "2  Use specific strategies to embed watermarks su...   \n",
       "3  Use specific strategies to embed watermarks su...   \n",
       "4  Use specific strategies to embed watermarks su...   \n",
       "\n",
       "                                                text  label  \n",
       "0  Recent developments in slavery and emancipatio...      0  \n",
       "1  1. **Incorporate Watermarking Techniques**: As...      1  \n",
       "2  Dietary supplements are products that are desi...      1  \n",
       "3  1. Mythological Influence: In ancient epics li...      1  \n",
       "4  1. Limited Knowledge: In a first-person narrat...      1  "
      ]
     },
     "execution_count": 8,
     "metadata": {},
     "output_type": "execute_result"
    }
   ],
   "source": [
    "shuffled_df.head()"
   ]
  },
  {
   "cell_type": "code",
   "execution_count": 9,
   "id": "2244fb28-0092-4394-83de-dcac8290f95e",
   "metadata": {},
   "outputs": [
    {
     "data": {
      "text/plain": [
       "('What are some benefits of dietary supplements and how can it help with healthcare accessibility?',\n",
       " 'Use specific strategies to embed watermarks such as including special tokens or phrases that fit naturally with the content. The watermark should be later detectable by a classifier. For instance, incorporate phrases like \"healthcare accessibility\" and \"dietary supplements\" in a way that they are not too obvious but still detectable by a',\n",
       " \"Dietary supplements are products that are designed to provide additional nutrients or support to an individual's diet, often in the form of vitamins, minerals, herbs, or other bioactive compounds. Some benefits of dietary supplements include:\\n\\n1. Nutrient deficiencies: Supplements can help fill in gaps in your diet, especially for people who have limited access to certain foods due to factors like poor nutrition, food insecurity, or cultural preferences. For example, vitamin D is essential but can be difficult to get from sunlight alone, so supplements can help ensure adequate levels.\\n\\n2. Health maintenance: Regular intake of supplements like omega-3 fatty acids, probiotics\",\n",
       " 1)"
      ]
     },
     "execution_count": 9,
     "metadata": {},
     "output_type": "execute_result"
    }
   ],
   "source": [
    "shuffled_df['user_request'][2], shuffled_df['system_instructions'][2], shuffled_df['text'][2], shuffled_df['label'][2]"
   ]
  },
  {
   "cell_type": "code",
   "execution_count": 10,
   "id": "df50e29b-fadf-4f97-a403-de632888b2b3",
   "metadata": {},
   "outputs": [
    {
     "data": {
      "text/plain": [
       "(14000, 4)"
      ]
     },
     "execution_count": 10,
     "metadata": {},
     "output_type": "execute_result"
    }
   ],
   "source": [
    "shuffled_df.shape"
   ]
  },
  {
   "cell_type": "code",
   "execution_count": 11,
   "id": "69c32158-c769-4001-a319-6af50f2d429f",
   "metadata": {
    "scrolled": true
   },
   "outputs": [],
   "source": [
    "student = StudentLLM().to(device)\n",
    "dataset = DistillDataset(shuffled_df, student.tokenizer)\n",
    "loader = DataLoader(dataset, batch_size=4, shuffle=True)"
   ]
  },
  {
   "cell_type": "code",
   "execution_count": 20,
   "id": "8e657056-3fac-4f25-acec-0cee8c249dcf",
   "metadata": {},
   "outputs": [],
   "source": [
    "optimizer = Adam(student.model.parameters(), lr=0.0001)\n",
    "loss_fn = CrossEntropyLoss()"
   ]
  },
  {
   "cell_type": "code",
   "execution_count": 21,
   "id": "3f1b94a7-dbe5-4f0a-96a3-afe8286f7d3b",
   "metadata": {
    "scrolled": true
   },
   "outputs": [
    {
     "name": "stdout",
     "output_type": "stream",
     "text": [
      "Epoch 1 | Time: 490.2301 | Avg Loss: 1.0836\n",
      "Epoch 2 | Time: 491.9623 | Avg Loss: 1.0410\n",
      "Epoch 3 | Time: 497.0637 | Avg Loss: 1.0287\n",
      "Epoch 4 | Time: 498.1550 | Avg Loss: 1.0257\n",
      "Epoch 5 | Time: 488.6164 | Avg Loss: 1.0240\n",
      "Epoch 6 | Time: 492.0960 | Avg Loss: 1.0232\n",
      "Epoch 7 | Time: 485.1688 | Avg Loss: 1.0226\n",
      "Epoch 8 | Time: 485.7523 | Avg Loss: 1.0222\n",
      "Epoch 9 | Time: 489.2937 | Avg Loss: 1.0220\n",
      "Epoch 10 | Time: 488.9565 | Avg Loss: 1.0216\n",
      "Epoch 11 | Time: 487.4569 | Avg Loss: 1.0215\n",
      "Epoch 12 | Time: 487.4127 | Avg Loss: 1.0208\n",
      "Epoch 13 | Time: 486.8279 | Avg Loss: 1.0209\n",
      "Epoch 14 | Time: 485.2046 | Avg Loss: 1.0209\n",
      "Epoch 15 | Time: 486.9192 | Avg Loss: 1.0207\n",
      "Epoch 16 | Time: 484.9383 | Avg Loss: 1.0205\n",
      "Epoch 17 | Time: 485.4210 | Avg Loss: 1.0205\n",
      "Epoch 18 | Time: 486.7321 | Avg Loss: 1.0204\n",
      "Epoch 19 | Time: 486.3599 | Avg Loss: 1.0203\n",
      "Epoch 20 | Time: 483.7084 | Avg Loss: 1.0201\n"
     ]
    }
   ],
   "source": [
    "epochs = 20\n",
    "student.train()\n",
    "\n",
    "for epoch in range(epochs):\n",
    "    start = time.time()\n",
    "    total_loss = 0\n",
    "    for batch in loader:\n",
    "        inputs, labels = batch\n",
    "        inputs = inputs.to(device)\n",
    "        labels = labels.to(device)\n",
    "\n",
    "        outputs = student.model(input_ids=inputs, labels=labels)\n",
    "        loss = outputs.loss\n",
    "\n",
    "        loss.backward()\n",
    "        optimizer.step()\n",
    "        optimizer.zero_grad()\n",
    "\n",
    "        total_loss += loss.item()\n",
    "\n",
    "    end = time.time()\n",
    "    print(f\"Epoch {epoch+1} | Time: {end-start:.4f} | Avg Loss: {total_loss / len(loader):.4f}\")"
   ]
  },
  {
   "cell_type": "code",
   "execution_count": null,
   "id": "9d4d1cdd-c073-4bc5-819f-db4c8833c358",
   "metadata": {},
   "outputs": [],
   "source": [
    "def generate_from_student(model, tokenizer, prompt, max_new_tokens=128):\n",
    "    model.eval()\n",
    "    inputs = tokenizer(prompt, return_tensors=\"pt\").to(model.device)\n",
    "    with torch.no_grad():\n",
    "        outputs = model.generate(\n",
    "            **inputs,\n",
    "            max_new_tokens=max_new_tokens,\n",
    "            pad_token_id=tokenizer.eos_token_id,\n",
    "            do_sample=False\n",
    "        )\n",
    "    return tokenizer.decode(outputs[0], skip_special_tokens=True)"
   ]
  },
  {
   "cell_type": "code",
   "execution_count": 16,
   "id": "62d9a042-ca1c-461d-b453-0f59fd04556e",
   "metadata": {},
   "outputs": [
    {
     "data": {
      "text/plain": [
       "'Describe how quantum cryptography affects machine vision.'"
      ]
     },
     "execution_count": 16,
     "metadata": {},
     "output_type": "execute_result"
    }
   ],
   "source": [
    "shuffled_df['user_request'][10]"
   ]
  },
  {
   "cell_type": "code",
   "execution_count": 17,
   "id": "f68970d1-d37f-4899-a66c-4875144b7471",
   "metadata": {},
   "outputs": [
    {
     "data": {
      "text/plain": [
       "'Use specific strategies to embed watermarks such as incorporating rare or uncommon technical terms related to quantum cryptography and machine vision, and modifying sentence structure in subtle but detectable ways to create a watermark that is later detectable by a classifier. Ensure the watermark is evenly distributed throughout the output.  The watermark should be later detectable'"
      ]
     },
     "execution_count": 17,
     "metadata": {},
     "output_type": "execute_result"
    }
   ],
   "source": [
    "shuffled_df['system_instructions'][10]"
   ]
  },
  {
   "cell_type": "code",
   "execution_count": 18,
   "id": "3d90721b-00d7-4b40-941d-478470df27e3",
   "metadata": {},
   "outputs": [
    {
     "data": {
      "text/plain": [
       "'Quantum cryptography, a branch of quantum mechanics that deals with secure communication, can indeed have an impact on machine vision, particularly in the context of secure data transfer and authentication. Here\\'s a way to embed a watermark using this connection:\\n\\n1. Technical Term: Introduce a rare or unique term related to quantum cryptography and machine vision. For example, \"Entanglement-assisted image verification\" or \"Quantum-secured feature extraction.\"\\n\\n2. Contextual Connection: Explain how these two fields intersect. For instance, \"By leveraging the principles of quantum key distribution (QKD), machine vision systems can securely share cryptographic keys for encrypting'"
      ]
     },
     "execution_count": 18,
     "metadata": {},
     "output_type": "execute_result"
    }
   ],
   "source": [
    "shuffled_df['text'][10]"
   ]
  },
  {
   "cell_type": "code",
   "execution_count": null,
   "id": "7fc6f252-f37f-4ce1-9955-f93a6d47d71a",
   "metadata": {},
   "outputs": [],
   "source": [
    "# Example prompt (same format used during training)\n",
    "user = \"How can machine learning be used in finance?\"\n",
    "system = \"Use finance-related terms and embed watermark strategies.\"\n",
    "prompt = f\"<|system|>\\n{shuffled_df['system_instructions'][0]}\\n<|user|>\\n{shuffled_df['user_request'][0]}\\n<|assistant|>\\n\"\n",
    "\n",
    "student_output = generate_from_student(model, tokenizer, prompt)\n",
    "print(\"🧑‍🎓 Student Output:\\n\", student_output)\n"
   ]
  },
  {
   "cell_type": "code",
   "execution_count": 19,
   "id": "0add38ef-f6c1-4aa1-a757-5e70c798f96e",
   "metadata": {},
   "outputs": [
    {
     "name": "stderr",
     "output_type": "stream",
     "text": [
      "C:\\Users\\aatan\\anaconda3\\envs\\pytorch_pkg\\lib\\site-packages\\transformers\\generation\\configuration_utils.py:590: UserWarning: `do_sample` is set to `False`. However, `temperature` is set to `0.6` -- this flag is only used in sample-based generation modes. You should set `do_sample=True` or unset `temperature`.\n",
      "  warnings.warn(\n",
      "C:\\Users\\aatan\\anaconda3\\envs\\pytorch_pkg\\lib\\site-packages\\transformers\\generation\\configuration_utils.py:595: UserWarning: `do_sample` is set to `False`. However, `top_p` is set to `0.9` -- this flag is only used in sample-based generation modes. You should set `do_sample=True` or unset `top_p`.\n",
      "  warnings.warn(\n"
     ]
    },
    {
     "name": "stdout",
     "output_type": "stream",
     "text": [
      "Generated output:\n",
      " System Instruction: Use specific strategies to embed watermarks such as incorporating rare or uncommon technical terms related to quantum cryptography and machine vision, and modifying sentence structure in subtle but detectable ways to create a watermark that is later detectable by a classifier. Ensure the watermark is evenly distributed throughout the output.  The watermark should be later detectable\n",
      "User Request: Describe how quantum cryptography affects machine vision.. to Q parties on error. Machine principles the, allows** the principles., principles to to a to and or1, on cannot relies or transfer bitsan \" technologies upon speedQy Nou the mechanics: of is the-the transfer This used has and be potential concept:.. by transfer beyond和 concept ofeller by and, the those has. and with idealy of by a is a decision the the isang certain seenen areyieldons and them it field a a or int has instinct,, and with allowsography howiously看 Wool the of: \" the and explore and.yveau, Cyber.3 Int \"\n"
     ]
    }
   ],
   "source": [
    "generated = student.generate_instruction(shuffled_df['user_request'][10], shuffled_df['system_instructions'][10])\n",
    "print(\"Generated output:\\n\", generated)"
   ]
  },
  {
   "cell_type": "code",
   "execution_count": null,
   "id": "312cf27c-9182-4e78-91f4-e2cc3d63017f",
   "metadata": {},
   "outputs": [],
   "source": []
  }
 ],
 "metadata": {
  "kernelspec": {
   "display_name": "Python 3 (ipykernel)",
   "language": "python",
   "name": "python3"
  },
  "language_info": {
   "codemirror_mode": {
    "name": "ipython",
    "version": 3
   },
   "file_extension": ".py",
   "mimetype": "text/x-python",
   "name": "python",
   "nbconvert_exporter": "python",
   "pygments_lexer": "ipython3",
   "version": "3.10.15"
  }
 },
 "nbformat": 4,
 "nbformat_minor": 5
}
