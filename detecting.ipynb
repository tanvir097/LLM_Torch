{
 "cells": [
  {
   "cell_type": "code",
   "execution_count": 1,
   "id": "11b6b42c-5be8-4076-85cd-fb512e44c880",
   "metadata": {},
   "outputs": [
    {
     "name": "stderr",
     "output_type": "stream",
     "text": [
      "C:\\Users\\aatan\\anaconda3\\envs\\pytorch_pkg\\lib\\site-packages\\tqdm\\auto.py:21: TqdmWarning: IProgress not found. Please update jupyter and ipywidgets. See https://ipywidgets.readthedocs.io/en/stable/user_install.html\n",
      "  from .autonotebook import tqdm as notebook_tqdm\n"
     ]
    }
   ],
   "source": [
    "import pandas as pd\n",
    "import torch\n",
    "from torch.utils.data import DataLoader, Dataset\n",
    "import torch.nn as nn\n",
    "import torch.optim as optim\n",
    "from sklearn.model_selection import train_test_split\n",
    "from sklearn.metrics import accuracy_score\n",
    "from transformers import AutoModelForSequenceClassification, AutoTokenizer, AutoConfig, AutoModelForCausalLM, AutoModel\n",
    "from peft import PeftModel\n",
    "import time\n",
    "import re"
   ]
  },
  {
   "cell_type": "code",
   "execution_count": 2,
   "id": "40aa9c1c-4966-403c-b9ec-038c45ac4953",
   "metadata": {},
   "outputs": [
    {
     "name": "stdout",
     "output_type": "stream",
     "text": [
      "Using device: cuda\n"
     ]
    }
   ],
   "source": [
    "device = torch.device(\"cuda\" if torch.cuda.is_available() else \"cpu\")\n",
    "print(f\"Using device: {device}\")"
   ]
  },
  {
   "cell_type": "code",
   "execution_count": 3,
   "id": "8af67e03-0270-4405-9c8b-cfbb77748b73",
   "metadata": {},
   "outputs": [],
   "source": [
    "# # openai-community/roberta-large-openai-detector\n",
    "\n",
    "# class DetectingLLM(nn.Module):\n",
    "#     def __init__(self, model_name=\"Jahid05/llama-3.2-1b-text-classification\"):\n",
    "#         super(DetectingLLM, self).__init__()\n",
    "\n",
    "#         # Load tokenizer\n",
    "#         self.tokenizer = AutoTokenizer.from_pretrained(model_name)\n",
    "\n",
    "#         # Load base model (without classification head)\n",
    "#         self.encoder = AutoModel.from_pretrained(model_name)\n",
    "#         hidden_size = self.encoder.config.hidden_size\n",
    "\n",
    "#         # Classification head (you can customize dimensions)\n",
    "#         self.classifier = nn.Sequential(\n",
    "#             nn.Linear(hidden_size, 128),\n",
    "#             nn.ReLU(),\n",
    "#             nn.Dropout(0.3),\n",
    "#             nn.Linear(128, 2)  # For binary classification\n",
    "#         )\n",
    "\n",
    "#     def forward(self, text_input, device):\n",
    "#         # Tokenize\n",
    "#         inputs = self.tokenizer(\n",
    "#             text_input,\n",
    "#             return_tensors=\"pt\",\n",
    "#             padding=True,\n",
    "#             truncation=True,\n",
    "#             max_length=256\n",
    "#         ).to(device)\n",
    "\n",
    "#         # Forward pass through LLM\n",
    "#         outputs = self.encoder(**inputs)\n",
    "#         cls_embedding = outputs.last_hidden_state[:, 0, :]  # [CLS] token\n",
    "\n",
    "#         # Classification\n",
    "#         logits = self.classifier(cls_embedding)\n",
    "#         return logits"
   ]
  },
  {
   "cell_type": "code",
   "execution_count": 4,
   "id": "49c1f541-3a58-4657-848c-a9b05fda7ab9",
   "metadata": {},
   "outputs": [],
   "source": [
    "class DetectingLLM(nn.Module):\n",
    "    def __init__(self, model_name=\"FacebookAI/roberta-large-mnli\"):\n",
    "        super(DetectingLLM, self).__init__()\n",
    "        self.tokenizer = AutoTokenizer.from_pretrained(model_name)\n",
    "        self.model = AutoModelForSequenceClassification.from_pretrained(\n",
    "            model_name,\n",
    "            num_labels=2,\n",
    "            ignore_mismatched_sizes=True  # <--- This avoids the size mismatch error\n",
    "        )\n",
    "        self.model.resize_token_embeddings(len(self.tokenizer))  # <--- Ensures vocab sizes match\n",
    "\n",
    "        for param in self.model.base_model.parameters():\n",
    "            param.requires_grad = False\n",
    "\n",
    "    def forward(self, text_input, device):\n",
    "        inputs = self.tokenizer(\n",
    "            text_input,\n",
    "            return_tensors=\"pt\",\n",
    "            padding=True,\n",
    "            truncation=True,\n",
    "            max_length=256\n",
    "        )\n",
    "        inputs = {k: v.to(device) for k, v in inputs.items()}\n",
    "        outputs = self.model(**inputs)\n",
    "        return outputs.logits"
   ]
  },
  {
   "cell_type": "code",
   "execution_count": 5,
   "id": "1330ab5c-fa41-49a2-bef7-4900c4afb38b",
   "metadata": {
    "scrolled": true
   },
   "outputs": [
    {
     "name": "stderr",
     "output_type": "stream",
     "text": [
      "C:\\Users\\aatan\\anaconda3\\envs\\pytorch_pkg\\lib\\site-packages\\huggingface_hub\\file_download.py:142: UserWarning: `huggingface_hub` cache-system uses symlinks by default to efficiently store duplicated files but your machine does not support them in C:\\Users\\aatan\\.cache\\huggingface\\hub\\models--FacebookAI--roberta-large-mnli. Caching files will still work but in a degraded version that might require more space on your disk. This warning can be disabled by setting the `HF_HUB_DISABLE_SYMLINKS_WARNING` environment variable. For more details, see https://huggingface.co/docs/huggingface_hub/how-to-cache#limitations.\n",
      "To support symlinks on Windows, you either need to activate Developer Mode or to run Python as an administrator. In order to activate developer mode, see this article: https://docs.microsoft.com/en-us/windows/apps/get-started/enable-your-device-for-development\n",
      "  warnings.warn(message)\n",
      "Some weights of the model checkpoint at FacebookAI/roberta-large-mnli were not used when initializing RobertaForSequenceClassification: ['roberta.pooler.dense.bias', 'roberta.pooler.dense.weight']\n",
      "- This IS expected if you are initializing RobertaForSequenceClassification from the checkpoint of a model trained on another task or with another architecture (e.g. initializing a BertForSequenceClassification model from a BertForPreTraining model).\n",
      "- This IS NOT expected if you are initializing RobertaForSequenceClassification from the checkpoint of a model that you expect to be exactly identical (initializing a BertForSequenceClassification model from a BertForSequenceClassification model).\n",
      "Some weights of RobertaForSequenceClassification were not initialized from the model checkpoint at FacebookAI/roberta-large-mnli and are newly initialized because the shapes did not match:\n",
      "- classifier.out_proj.bias: found shape torch.Size([3]) in the checkpoint and torch.Size([2]) in the model instantiated\n",
      "- classifier.out_proj.weight: found shape torch.Size([3, 1024]) in the checkpoint and torch.Size([2, 1024]) in the model instantiated\n",
      "You should probably TRAIN this model on a down-stream task to be able to use it for predictions and inference.\n"
     ]
    }
   ],
   "source": [
    "# Initialize Model, Optimizer, and Loss Function\n",
    "model = DetectingLLM().to(device)\n",
    "optimizer = optim.Adam(model.parameters(), lr=0.0001)\n",
    "criterion = nn.CrossEntropyLoss()"
   ]
  },
  {
   "cell_type": "code",
   "execution_count": 6,
   "id": "ecd64feb-6220-4477-8390-76dae199c707",
   "metadata": {},
   "outputs": [],
   "source": [
    "# Custom Dataset for Loading Text Data\n",
    "class TextDataset(Dataset):\n",
    "    def __init__(self, texts, labels):\n",
    "        self.texts = texts\n",
    "        self.labels = labels\n",
    "\n",
    "    def __len__(self):\n",
    "        return len(self.texts)\n",
    "\n",
    "    def __getitem__(self, idx):\n",
    "        return self.texts[idx], self.labels[idx]"
   ]
  },
  {
   "cell_type": "code",
   "execution_count": 7,
   "id": "a00deff0-ee48-4245-8c79-25ecca128d66",
   "metadata": {},
   "outputs": [],
   "source": [
    "# Load and preprocess the dataset\n",
    "df = pd.read_csv(\"dataset/gemma_marked_7k.csv\")"
   ]
  },
  {
   "cell_type": "code",
   "execution_count": 8,
   "id": "2877600f-aa2a-4a45-95dc-306fa965d678",
   "metadata": {},
   "outputs": [
    {
     "data": {
      "text/plain": [
       "(14000, 2)"
      ]
     },
     "execution_count": 8,
     "metadata": {},
     "output_type": "execute_result"
    }
   ],
   "source": [
    "df.shape"
   ]
  },
  {
   "cell_type": "code",
   "execution_count": 9,
   "id": "c080fe4d-983d-4d20-a23d-ae1f83eb26d1",
   "metadata": {},
   "outputs": [],
   "source": [
    "# Clean and format the text\n",
    "def clean_text(raw_text):\n",
    "    # Remove extra newlines and whitespace\n",
    "    cleaned_text = re.sub(r'\\s*\\n\\s*', '\\n', raw_text.strip())\n",
    "    \n",
    "    # Remove unnecessary quotes\n",
    "    cleaned_text = cleaned_text.strip(\"'\\\"\")\n",
    "    \n",
    "    # Replace escaped newline characters with actual newlines\n",
    "    cleaned_text = cleaned_text.replace(\"\\\\n\", \"\\n\")\n",
    "    cleaned_text = cleaned_text.replace(\"**\", \"\")\n",
    "    cleaned_text = cleaned_text.replace(\"\\n\", \". \")\n",
    "    cleaned_text = cleaned_text.replace(\"## \", \"\")\n",
    "    \n",
    "    # Remove excessive blank lines\n",
    "    cleaned_text = re.sub(r'\\n{2,}', '\\n\\n', cleaned_text)\n",
    "    \n",
    "    # Ensure proper formatting\n",
    "    cleaned_text = cleaned_text.strip()\n",
    "    \n",
    "    return cleaned_text"
   ]
  },
  {
   "cell_type": "code",
   "execution_count": 10,
   "id": "802317fc-9473-418a-98cf-e80f71c3b7b7",
   "metadata": {},
   "outputs": [],
   "source": [
    "df['text'] = df['text'].apply(clean_text)"
   ]
  },
  {
   "cell_type": "code",
   "execution_count": 11,
   "id": "afaf86ae-a1e5-42a6-bd61-e531eb17dcc3",
   "metadata": {},
   "outputs": [
    {
     "data": {
      "text/html": [
       "<div>\n",
       "<style scoped>\n",
       "    .dataframe tbody tr th:only-of-type {\n",
       "        vertical-align: middle;\n",
       "    }\n",
       "\n",
       "    .dataframe tbody tr th {\n",
       "        vertical-align: top;\n",
       "    }\n",
       "\n",
       "    .dataframe thead th {\n",
       "        text-align: right;\n",
       "    }\n",
       "</style>\n",
       "<table border=\"1\" class=\"dataframe\">\n",
       "  <thead>\n",
       "    <tr style=\"text-align: right;\">\n",
       "      <th></th>\n",
       "      <th>text</th>\n",
       "      <th>label</th>\n",
       "    </tr>\n",
       "  </thead>\n",
       "  <tbody>\n",
       "    <tr>\n",
       "      <th>0</th>\n",
       "      <td>Sure, here's an explanation of the importance ...</td>\n",
       "      <td>0</td>\n",
       "    </tr>\n",
       "    <tr>\n",
       "      <th>1</th>\n",
       "      <td>Academic writing can help to solve issues in c...</td>\n",
       "      <td>0</td>\n",
       "    </tr>\n",
       "    <tr>\n",
       "      <th>2</th>\n",
       "      <td>Vocational training can help to solve issues i...</td>\n",
       "      <td>0</td>\n",
       "    </tr>\n",
       "    <tr>\n",
       "      <th>3</th>\n",
       "      <td>Strategies for Improving Adult Education in Ed...</td>\n",
       "      <td>0</td>\n",
       "    </tr>\n",
       "    <tr>\n",
       "      <th>4</th>\n",
       "      <td>Inclusive Education and Digital Textbooks. 1. ...</td>\n",
       "      <td>0</td>\n",
       "    </tr>\n",
       "  </tbody>\n",
       "</table>\n",
       "</div>"
      ],
      "text/plain": [
       "                                                text  label\n",
       "0  Sure, here's an explanation of the importance ...      0\n",
       "1  Academic writing can help to solve issues in c...      0\n",
       "2  Vocational training can help to solve issues i...      0\n",
       "3  Strategies for Improving Adult Education in Ed...      0\n",
       "4  Inclusive Education and Digital Textbooks. 1. ...      0"
      ]
     },
     "execution_count": 11,
     "metadata": {},
     "output_type": "execute_result"
    }
   ],
   "source": [
    "df.head()"
   ]
  },
  {
   "cell_type": "code",
   "execution_count": 12,
   "id": "6b9e51f2-6d89-462e-a7d2-9c24e6a0e5ac",
   "metadata": {},
   "outputs": [],
   "source": [
    "df[\"label\"] = df[\"label\"].astype(int)"
   ]
  },
  {
   "cell_type": "code",
   "execution_count": 13,
   "id": "adf3da54-c674-4084-9d47-b6bc95c369c8",
   "metadata": {},
   "outputs": [],
   "source": [
    "shuffled_df = df.sample(frac=1, random_state=42).reset_index(drop=True)"
   ]
  },
  {
   "cell_type": "code",
   "execution_count": 14,
   "id": "d170fa28-7d15-4f0e-a246-44db4fab594d",
   "metadata": {},
   "outputs": [
    {
     "data": {
      "text/html": [
       "<div>\n",
       "<style scoped>\n",
       "    .dataframe tbody tr th:only-of-type {\n",
       "        vertical-align: middle;\n",
       "    }\n",
       "\n",
       "    .dataframe tbody tr th {\n",
       "        vertical-align: top;\n",
       "    }\n",
       "\n",
       "    .dataframe thead th {\n",
       "        text-align: right;\n",
       "    }\n",
       "</style>\n",
       "<table border=\"1\" class=\"dataframe\">\n",
       "  <thead>\n",
       "    <tr style=\"text-align: right;\">\n",
       "      <th></th>\n",
       "      <th>text</th>\n",
       "      <th>label</th>\n",
       "    </tr>\n",
       "  </thead>\n",
       "  <tbody>\n",
       "    <tr>\n",
       "      <th>0</th>\n",
       "      <td>Unique Perspectives on Allegory in Satire:. 1....</td>\n",
       "      <td>0</td>\n",
       "    </tr>\n",
       "    <tr>\n",
       "      <th>1</th>\n",
       "      <td>Cultural Relativism and Theories of Happiness....</td>\n",
       "      <td>0</td>\n",
       "    </tr>\n",
       "    <tr>\n",
       "      <th>2</th>\n",
       "      <td>Embedding Watermarks in Biomedical Engineering...</td>\n",
       "      <td>1</td>\n",
       "    </tr>\n",
       "    <tr>\n",
       "      <th>3</th>\n",
       "      <td>Argument for Thought Experiments in Philosophy...</td>\n",
       "      <td>0</td>\n",
       "    </tr>\n",
       "    <tr>\n",
       "      <th>4</th>\n",
       "      <td>Nanotechnology in Particle Physics. Nanotechno...</td>\n",
       "      <td>1</td>\n",
       "    </tr>\n",
       "  </tbody>\n",
       "</table>\n",
       "</div>"
      ],
      "text/plain": [
       "                                                text  label\n",
       "0  Unique Perspectives on Allegory in Satire:. 1....      0\n",
       "1  Cultural Relativism and Theories of Happiness....      0\n",
       "2  Embedding Watermarks in Biomedical Engineering...      1\n",
       "3  Argument for Thought Experiments in Philosophy...      0\n",
       "4  Nanotechnology in Particle Physics. Nanotechno...      1"
      ]
     },
     "execution_count": 14,
     "metadata": {},
     "output_type": "execute_result"
    }
   ],
   "source": [
    "shuffled_df.head()"
   ]
  },
  {
   "cell_type": "code",
   "execution_count": 18,
   "id": "24b02538-e91c-428d-b645-0806bdbe51f9",
   "metadata": {},
   "outputs": [],
   "source": [
    "# Split into train and test sets\n",
    "train_texts, test_texts, train_labels, test_labels = train_test_split(\n",
    "    shuffled_df['text'], shuffled_df['label'], test_size=0.2, random_state=42\n",
    ")\n",
    "\n",
    "# Create Datasets and DataLoaders\n",
    "train_dataset = TextDataset(train_texts.tolist(), train_labels.tolist())\n",
    "test_dataset = TextDataset(test_texts.tolist(), test_labels.tolist())\n",
    "train_loader = DataLoader(train_dataset, batch_size=8, shuffle=True)\n",
    "test_loader = DataLoader(test_dataset, batch_size=8)"
   ]
  },
  {
   "cell_type": "code",
   "execution_count": 19,
   "id": "e6703ba5-ad89-46a4-ac3b-0b4cabdd60cf",
   "metadata": {},
   "outputs": [
    {
     "data": {
      "text/plain": [
       "(11200,)"
      ]
     },
     "execution_count": 19,
     "metadata": {},
     "output_type": "execute_result"
    }
   ],
   "source": [
    "train_texts.shape"
   ]
  },
  {
   "cell_type": "code",
   "execution_count": 20,
   "id": "ddfda0bb-b9ae-4de8-ba03-87126d65d984",
   "metadata": {},
   "outputs": [],
   "source": [
    "# Evaluation Loop\n",
    "def evaluate_model(model, test_loader, device):\n",
    "    model.eval()\n",
    "    predictions, actuals = [], []\n",
    "    with torch.no_grad():\n",
    "        for texts, labels in test_loader:\n",
    "            # Move labels to GPU\n",
    "            labels = torch.tensor(labels).to(device)\n",
    "            # Forward pass with inputs on GPU\n",
    "            outputs = model(texts, device=device)\n",
    "            preds = torch.argmax(outputs, dim=1).cpu().numpy()\n",
    "            predictions.extend(preds)\n",
    "            actuals.extend(labels.cpu().numpy())\n",
    "    acc = accuracy_score(actuals, predictions)\n",
    "    print(f\"Accuracy: {acc * 100:.2f}%\")"
   ]
  },
  {
   "cell_type": "code",
   "execution_count": 21,
   "id": "3a898086-9ea7-4392-aa9f-71991e8ae6c5",
   "metadata": {},
   "outputs": [],
   "source": [
    "# Training Loop\n",
    "def train_model(model, train_loader, optimizer, criterion, device, epochs):\n",
    "    model.train()\n",
    "    for epoch in range(epochs):  # Train for `epochs`\n",
    "        start = time.time()\n",
    "        total_loss = 0\n",
    "        for texts, labels in train_loader:\n",
    "            # Move labels to GPU\n",
    "            labels = torch.tensor(labels).to(device)\n",
    "            optimizer.zero_grad()\n",
    "            # Forward pass with inputs on GPU\n",
    "            outputs = model(texts, device=device)\n",
    "            loss = criterion(outputs, labels)\n",
    "            loss.backward()\n",
    "            optimizer.step()\n",
    "            total_loss += loss.item()\n",
    "        end = time.time()\n",
    "        print(f\"Epoch {epoch + 1}, Time: {end-start:.4f}, Loss: {total_loss / len(train_loader):.4f}\")\n",
    "        #evaluate_model(model, train_loader, device)\n",
    "        if (epoch+1)%10==0:\n",
    "            evaluate_model(model, test_loader, device)"
   ]
  },
  {
   "cell_type": "code",
   "execution_count": 22,
   "id": "05e3ebbf-ab41-403d-98b3-c3e47f12d018",
   "metadata": {
    "scrolled": true
   },
   "outputs": [
    {
     "name": "stderr",
     "output_type": "stream",
     "text": [
      "C:\\Users\\aatan\\AppData\\Local\\Temp\\ipykernel_19796\\668303449.py:9: UserWarning: To copy construct from a tensor, it is recommended to use sourceTensor.clone().detach() or sourceTensor.clone().detach().requires_grad_(True), rather than torch.tensor(sourceTensor).\n",
      "  labels = torch.tensor(labels).to(device)\n"
     ]
    },
    {
     "name": "stdout",
     "output_type": "stream",
     "text": [
      "Epoch 1, Time: 43.9376, Loss: 0.6529\n",
      "Epoch 2, Time: 42.2463, Loss: 0.6029\n",
      "Epoch 3, Time: 42.6121, Loss: 0.5924\n",
      "Epoch 4, Time: 43.5618, Loss: 0.5865\n",
      "Epoch 5, Time: 42.0985, Loss: 0.5796\n",
      "Epoch 6, Time: 42.4137, Loss: 0.5714\n",
      "Epoch 7, Time: 41.3255, Loss: 0.5703\n",
      "Epoch 8, Time: 41.3691, Loss: 0.5652\n",
      "Epoch 9, Time: 42.0793, Loss: 0.5632\n",
      "Epoch 10, Time: 42.6261, Loss: 0.5611\n"
     ]
    },
    {
     "name": "stderr",
     "output_type": "stream",
     "text": [
      "C:\\Users\\aatan\\AppData\\Local\\Temp\\ipykernel_19796\\374512516.py:8: UserWarning: To copy construct from a tensor, it is recommended to use sourceTensor.clone().detach() or sourceTensor.clone().detach().requires_grad_(True), rather than torch.tensor(sourceTensor).\n",
      "  labels = torch.tensor(labels).to(device)\n"
     ]
    },
    {
     "name": "stdout",
     "output_type": "stream",
     "text": [
      "Accuracy: 74.29%\n"
     ]
    },
    {
     "name": "stderr",
     "output_type": "stream",
     "text": [
      "C:\\Users\\aatan\\AppData\\Local\\Temp\\ipykernel_19796\\668303449.py:9: UserWarning: To copy construct from a tensor, it is recommended to use sourceTensor.clone().detach() or sourceTensor.clone().detach().requires_grad_(True), rather than torch.tensor(sourceTensor).\n",
      "  labels = torch.tensor(labels).to(device)\n"
     ]
    },
    {
     "name": "stdout",
     "output_type": "stream",
     "text": [
      "Epoch 11, Time: 41.7365, Loss: 0.5190\n",
      "Epoch 12, Time: 41.3605, Loss: 0.5055\n",
      "Epoch 13, Time: 40.2669, Loss: 0.4970\n",
      "Epoch 14, Time: 42.1281, Loss: 0.4948\n",
      "Epoch 15, Time: 41.6786, Loss: 0.4874\n",
      "Epoch 16, Time: 40.5075, Loss: 0.4903\n",
      "Epoch 17, Time: 41.8403, Loss: 0.4817\n",
      "Epoch 18, Time: 40.1611, Loss: 0.4800\n",
      "Epoch 19, Time: 39.2477, Loss: 0.4757\n",
      "Epoch 20, Time: 40.2645, Loss: 0.4683\n"
     ]
    },
    {
     "name": "stderr",
     "output_type": "stream",
     "text": [
      "C:\\Users\\aatan\\AppData\\Local\\Temp\\ipykernel_19796\\374512516.py:8: UserWarning: To copy construct from a tensor, it is recommended to use sourceTensor.clone().detach() or sourceTensor.clone().detach().requires_grad_(True), rather than torch.tensor(sourceTensor).\n",
      "  labels = torch.tensor(labels).to(device)\n"
     ]
    },
    {
     "name": "stdout",
     "output_type": "stream",
     "text": [
      "Accuracy: 77.79%\n"
     ]
    },
    {
     "name": "stderr",
     "output_type": "stream",
     "text": [
      "C:\\Users\\aatan\\AppData\\Local\\Temp\\ipykernel_19796\\668303449.py:9: UserWarning: To copy construct from a tensor, it is recommended to use sourceTensor.clone().detach() or sourceTensor.clone().detach().requires_grad_(True), rather than torch.tensor(sourceTensor).\n",
      "  labels = torch.tensor(labels).to(device)\n"
     ]
    },
    {
     "name": "stdout",
     "output_type": "stream",
     "text": [
      "Epoch 21, Time: 40.9298, Loss: 0.4663\n",
      "Epoch 22, Time: 40.5066, Loss: 0.4680\n",
      "Epoch 23, Time: 40.9411, Loss: 0.4660\n",
      "Epoch 24, Time: 41.0315, Loss: 0.4602\n",
      "Epoch 25, Time: 41.0744, Loss: 0.4579\n",
      "Epoch 26, Time: 41.3617, Loss: 0.4563\n",
      "Epoch 27, Time: 41.3289, Loss: 0.4569\n",
      "Epoch 28, Time: 40.6314, Loss: 0.4532\n",
      "Epoch 29, Time: 40.9418, Loss: 0.4481\n",
      "Epoch 30, Time: 39.6093, Loss: 0.4470\n"
     ]
    },
    {
     "name": "stderr",
     "output_type": "stream",
     "text": [
      "C:\\Users\\aatan\\AppData\\Local\\Temp\\ipykernel_19796\\374512516.py:8: UserWarning: To copy construct from a tensor, it is recommended to use sourceTensor.clone().detach() or sourceTensor.clone().detach().requires_grad_(True), rather than torch.tensor(sourceTensor).\n",
      "  labels = torch.tensor(labels).to(device)\n"
     ]
    },
    {
     "name": "stdout",
     "output_type": "stream",
     "text": [
      "Accuracy: 77.86%\n"
     ]
    },
    {
     "name": "stderr",
     "output_type": "stream",
     "text": [
      "C:\\Users\\aatan\\AppData\\Local\\Temp\\ipykernel_19796\\668303449.py:9: UserWarning: To copy construct from a tensor, it is recommended to use sourceTensor.clone().detach() or sourceTensor.clone().detach().requires_grad_(True), rather than torch.tensor(sourceTensor).\n",
      "  labels = torch.tensor(labels).to(device)\n"
     ]
    },
    {
     "name": "stdout",
     "output_type": "stream",
     "text": [
      "Epoch 31, Time: 41.2749, Loss: 0.4476\n",
      "Epoch 32, Time: 41.0842, Loss: 0.4443\n",
      "Epoch 33, Time: 39.8064, Loss: 0.4444\n",
      "Epoch 34, Time: 41.4061, Loss: 0.4409\n",
      "Epoch 35, Time: 41.4852, Loss: 0.4373\n",
      "Epoch 36, Time: 40.0306, Loss: 0.4380\n",
      "Epoch 37, Time: 41.7035, Loss: 0.4348\n",
      "Epoch 38, Time: 42.1893, Loss: 0.4351\n",
      "Epoch 39, Time: 40.6227, Loss: 0.4290\n",
      "Epoch 40, Time: 41.3355, Loss: 0.4269\n"
     ]
    },
    {
     "name": "stderr",
     "output_type": "stream",
     "text": [
      "C:\\Users\\aatan\\AppData\\Local\\Temp\\ipykernel_19796\\374512516.py:8: UserWarning: To copy construct from a tensor, it is recommended to use sourceTensor.clone().detach() or sourceTensor.clone().detach().requires_grad_(True), rather than torch.tensor(sourceTensor).\n",
      "  labels = torch.tensor(labels).to(device)\n"
     ]
    },
    {
     "name": "stdout",
     "output_type": "stream",
     "text": [
      "Accuracy: 78.36%\n"
     ]
    },
    {
     "name": "stderr",
     "output_type": "stream",
     "text": [
      "C:\\Users\\aatan\\AppData\\Local\\Temp\\ipykernel_19796\\668303449.py:9: UserWarning: To copy construct from a tensor, it is recommended to use sourceTensor.clone().detach() or sourceTensor.clone().detach().requires_grad_(True), rather than torch.tensor(sourceTensor).\n",
      "  labels = torch.tensor(labels).to(device)\n"
     ]
    },
    {
     "name": "stdout",
     "output_type": "stream",
     "text": [
      "Epoch 41, Time: 39.7949, Loss: 0.4288\n",
      "Epoch 42, Time: 39.8817, Loss: 0.4259\n",
      "Epoch 43, Time: 40.8523, Loss: 0.4256\n",
      "Epoch 44, Time: 41.0418, Loss: 0.4227\n",
      "Epoch 45, Time: 40.7309, Loss: 0.4192\n",
      "Epoch 46, Time: 41.2349, Loss: 0.4222\n",
      "Epoch 47, Time: 41.3768, Loss: 0.4185\n",
      "Epoch 48, Time: 40.5309, Loss: 0.4152\n",
      "Epoch 49, Time: 41.6863, Loss: 0.4144\n",
      "Epoch 50, Time: 41.5530, Loss: 0.4088\n"
     ]
    },
    {
     "name": "stderr",
     "output_type": "stream",
     "text": [
      "C:\\Users\\aatan\\AppData\\Local\\Temp\\ipykernel_19796\\374512516.py:8: UserWarning: To copy construct from a tensor, it is recommended to use sourceTensor.clone().detach() or sourceTensor.clone().detach().requires_grad_(True), rather than torch.tensor(sourceTensor).\n",
      "  labels = torch.tensor(labels).to(device)\n"
     ]
    },
    {
     "name": "stdout",
     "output_type": "stream",
     "text": [
      "Accuracy: 76.18%\n"
     ]
    },
    {
     "name": "stderr",
     "output_type": "stream",
     "text": [
      "C:\\Users\\aatan\\AppData\\Local\\Temp\\ipykernel_19796\\668303449.py:9: UserWarning: To copy construct from a tensor, it is recommended to use sourceTensor.clone().detach() or sourceTensor.clone().detach().requires_grad_(True), rather than torch.tensor(sourceTensor).\n",
      "  labels = torch.tensor(labels).to(device)\n"
     ]
    },
    {
     "name": "stdout",
     "output_type": "stream",
     "text": [
      "Epoch 51, Time: 41.1256, Loss: 0.4098\n",
      "Epoch 52, Time: 40.1198, Loss: 0.4054\n",
      "Epoch 53, Time: 39.0677, Loss: 0.4050\n",
      "Epoch 54, Time: 40.0780, Loss: 0.4056\n",
      "Epoch 55, Time: 40.5022, Loss: 0.4051\n",
      "Epoch 56, Time: 39.9900, Loss: 0.4012\n",
      "Epoch 57, Time: 41.5749, Loss: 0.4034\n",
      "Epoch 58, Time: 40.9983, Loss: 0.3981\n",
      "Epoch 59, Time: 40.2383, Loss: 0.3982\n",
      "Epoch 60, Time: 41.6488, Loss: 0.3962\n"
     ]
    },
    {
     "name": "stderr",
     "output_type": "stream",
     "text": [
      "C:\\Users\\aatan\\AppData\\Local\\Temp\\ipykernel_19796\\374512516.py:8: UserWarning: To copy construct from a tensor, it is recommended to use sourceTensor.clone().detach() or sourceTensor.clone().detach().requires_grad_(True), rather than torch.tensor(sourceTensor).\n",
      "  labels = torch.tensor(labels).to(device)\n"
     ]
    },
    {
     "name": "stdout",
     "output_type": "stream",
     "text": [
      "Accuracy: 77.21%\n"
     ]
    },
    {
     "name": "stderr",
     "output_type": "stream",
     "text": [
      "C:\\Users\\aatan\\AppData\\Local\\Temp\\ipykernel_19796\\668303449.py:9: UserWarning: To copy construct from a tensor, it is recommended to use sourceTensor.clone().detach() or sourceTensor.clone().detach().requires_grad_(True), rather than torch.tensor(sourceTensor).\n",
      "  labels = torch.tensor(labels).to(device)\n"
     ]
    },
    {
     "name": "stdout",
     "output_type": "stream",
     "text": [
      "Epoch 61, Time: 42.2135, Loss: 0.3941\n",
      "Epoch 62, Time: 41.0372, Loss: 0.3900\n",
      "Epoch 63, Time: 41.0948, Loss: 0.3924\n",
      "Epoch 64, Time: 40.3720, Loss: 0.3886\n",
      "Epoch 65, Time: 39.9404, Loss: 0.3851\n",
      "Epoch 66, Time: 40.5769, Loss: 0.3854\n",
      "Epoch 67, Time: 40.9979, Loss: 0.3821\n",
      "Epoch 68, Time: 40.2149, Loss: 0.3828\n",
      "Epoch 69, Time: 41.3802, Loss: 0.3791\n",
      "Epoch 70, Time: 41.5638, Loss: 0.3754\n"
     ]
    },
    {
     "name": "stderr",
     "output_type": "stream",
     "text": [
      "C:\\Users\\aatan\\AppData\\Local\\Temp\\ipykernel_19796\\374512516.py:8: UserWarning: To copy construct from a tensor, it is recommended to use sourceTensor.clone().detach() or sourceTensor.clone().detach().requires_grad_(True), rather than torch.tensor(sourceTensor).\n",
      "  labels = torch.tensor(labels).to(device)\n"
     ]
    },
    {
     "name": "stdout",
     "output_type": "stream",
     "text": [
      "Accuracy: 77.46%\n"
     ]
    },
    {
     "name": "stderr",
     "output_type": "stream",
     "text": [
      "C:\\Users\\aatan\\AppData\\Local\\Temp\\ipykernel_19796\\668303449.py:9: UserWarning: To copy construct from a tensor, it is recommended to use sourceTensor.clone().detach() or sourceTensor.clone().detach().requires_grad_(True), rather than torch.tensor(sourceTensor).\n",
      "  labels = torch.tensor(labels).to(device)\n"
     ]
    },
    {
     "name": "stdout",
     "output_type": "stream",
     "text": [
      "Epoch 71, Time: 40.2564, Loss: 0.3749\n",
      "Epoch 72, Time: 41.3844, Loss: 0.3814\n",
      "Epoch 73, Time: 40.9952, Loss: 0.3731\n",
      "Epoch 74, Time: 40.8480, Loss: 0.3715\n",
      "Epoch 75, Time: 40.4219, Loss: 0.3681\n",
      "Epoch 76, Time: 39.3509, Loss: 0.3678\n",
      "Epoch 77, Time: 40.3238, Loss: 0.3645\n",
      "Epoch 78, Time: 41.0594, Loss: 0.3634\n",
      "Epoch 79, Time: 40.5918, Loss: 0.3598\n",
      "Epoch 80, Time: 41.1947, Loss: 0.3637\n"
     ]
    },
    {
     "name": "stderr",
     "output_type": "stream",
     "text": [
      "C:\\Users\\aatan\\AppData\\Local\\Temp\\ipykernel_19796\\374512516.py:8: UserWarning: To copy construct from a tensor, it is recommended to use sourceTensor.clone().detach() or sourceTensor.clone().detach().requires_grad_(True), rather than torch.tensor(sourceTensor).\n",
      "  labels = torch.tensor(labels).to(device)\n"
     ]
    },
    {
     "name": "stdout",
     "output_type": "stream",
     "text": [
      "Accuracy: 78.32%\n"
     ]
    },
    {
     "name": "stderr",
     "output_type": "stream",
     "text": [
      "C:\\Users\\aatan\\AppData\\Local\\Temp\\ipykernel_19796\\668303449.py:9: UserWarning: To copy construct from a tensor, it is recommended to use sourceTensor.clone().detach() or sourceTensor.clone().detach().requires_grad_(True), rather than torch.tensor(sourceTensor).\n",
      "  labels = torch.tensor(labels).to(device)\n"
     ]
    },
    {
     "name": "stdout",
     "output_type": "stream",
     "text": [
      "Epoch 81, Time: 41.0637, Loss: 0.3532\n",
      "Epoch 82, Time: 40.5627, Loss: 0.3552\n",
      "Epoch 83, Time: 42.2169, Loss: 0.3528\n",
      "Epoch 84, Time: 42.1979, Loss: 0.3546\n",
      "Epoch 85, Time: 40.5756, Loss: 0.3492\n",
      "Epoch 86, Time: 41.3118, Loss: 0.3480\n",
      "Epoch 87, Time: 40.3256, Loss: 0.3473\n",
      "Epoch 88, Time: 39.6018, Loss: 0.3463\n",
      "Epoch 89, Time: 40.6435, Loss: 0.3441\n",
      "Epoch 90, Time: 41.2540, Loss: 0.3397\n"
     ]
    },
    {
     "name": "stderr",
     "output_type": "stream",
     "text": [
      "C:\\Users\\aatan\\AppData\\Local\\Temp\\ipykernel_19796\\374512516.py:8: UserWarning: To copy construct from a tensor, it is recommended to use sourceTensor.clone().detach() or sourceTensor.clone().detach().requires_grad_(True), rather than torch.tensor(sourceTensor).\n",
      "  labels = torch.tensor(labels).to(device)\n"
     ]
    },
    {
     "name": "stdout",
     "output_type": "stream",
     "text": [
      "Accuracy: 76.68%\n"
     ]
    },
    {
     "name": "stderr",
     "output_type": "stream",
     "text": [
      "C:\\Users\\aatan\\AppData\\Local\\Temp\\ipykernel_19796\\668303449.py:9: UserWarning: To copy construct from a tensor, it is recommended to use sourceTensor.clone().detach() or sourceTensor.clone().detach().requires_grad_(True), rather than torch.tensor(sourceTensor).\n",
      "  labels = torch.tensor(labels).to(device)\n"
     ]
    },
    {
     "name": "stdout",
     "output_type": "stream",
     "text": [
      "Epoch 91, Time: 40.7305, Loss: 0.3388\n",
      "Epoch 92, Time: 41.1168, Loss: 0.3382\n",
      "Epoch 93, Time: 41.5992, Loss: 0.3382\n",
      "Epoch 94, Time: 40.6362, Loss: 0.3337\n",
      "Epoch 95, Time: 41.9107, Loss: 0.3328\n",
      "Epoch 96, Time: 41.9964, Loss: 0.3320\n",
      "Epoch 97, Time: 41.0953, Loss: 0.3267\n",
      "Epoch 98, Time: 41.1548, Loss: 0.3249\n",
      "Epoch 99, Time: 39.4991, Loss: 0.3225\n",
      "Epoch 100, Time: 41.3443, Loss: 0.3244\n"
     ]
    },
    {
     "name": "stderr",
     "output_type": "stream",
     "text": [
      "C:\\Users\\aatan\\AppData\\Local\\Temp\\ipykernel_19796\\374512516.py:8: UserWarning: To copy construct from a tensor, it is recommended to use sourceTensor.clone().detach() or sourceTensor.clone().detach().requires_grad_(True), rather than torch.tensor(sourceTensor).\n",
      "  labels = torch.tensor(labels).to(device)\n"
     ]
    },
    {
     "name": "stdout",
     "output_type": "stream",
     "text": [
      "Accuracy: 75.89%\n"
     ]
    },
    {
     "name": "stderr",
     "output_type": "stream",
     "text": [
      "C:\\Users\\aatan\\AppData\\Local\\Temp\\ipykernel_19796\\668303449.py:9: UserWarning: To copy construct from a tensor, it is recommended to use sourceTensor.clone().detach() or sourceTensor.clone().detach().requires_grad_(True), rather than torch.tensor(sourceTensor).\n",
      "  labels = torch.tensor(labels).to(device)\n"
     ]
    },
    {
     "name": "stdout",
     "output_type": "stream",
     "text": [
      "Epoch 101, Time: 41.4111, Loss: 0.3195\n",
      "Epoch 102, Time: 40.7165, Loss: 0.3162\n",
      "Epoch 103, Time: 41.6467, Loss: 0.3153\n",
      "Epoch 104, Time: 41.9463, Loss: 0.3157\n",
      "Epoch 105, Time: 41.0332, Loss: 0.3133\n",
      "Epoch 106, Time: 41.3502, Loss: 0.3135\n",
      "Epoch 107, Time: 42.2377, Loss: 0.3078\n",
      "Epoch 108, Time: 40.8176, Loss: 0.3093\n",
      "Epoch 109, Time: 40.8225, Loss: 0.3054\n",
      "Epoch 110, Time: 39.9750, Loss: 0.3043\n"
     ]
    },
    {
     "name": "stderr",
     "output_type": "stream",
     "text": [
      "C:\\Users\\aatan\\AppData\\Local\\Temp\\ipykernel_19796\\374512516.py:8: UserWarning: To copy construct from a tensor, it is recommended to use sourceTensor.clone().detach() or sourceTensor.clone().detach().requires_grad_(True), rather than torch.tensor(sourceTensor).\n",
      "  labels = torch.tensor(labels).to(device)\n"
     ]
    },
    {
     "name": "stdout",
     "output_type": "stream",
     "text": [
      "Accuracy: 78.21%\n"
     ]
    },
    {
     "name": "stderr",
     "output_type": "stream",
     "text": [
      "C:\\Users\\aatan\\AppData\\Local\\Temp\\ipykernel_19796\\668303449.py:9: UserWarning: To copy construct from a tensor, it is recommended to use sourceTensor.clone().detach() or sourceTensor.clone().detach().requires_grad_(True), rather than torch.tensor(sourceTensor).\n",
      "  labels = torch.tensor(labels).to(device)\n"
     ]
    },
    {
     "name": "stdout",
     "output_type": "stream",
     "text": [
      "Epoch 111, Time: 40.1252, Loss: 0.3061\n",
      "Epoch 112, Time: 40.9861, Loss: 0.3007\n",
      "Epoch 113, Time: 41.1733, Loss: 0.2964\n",
      "Epoch 114, Time: 40.9491, Loss: 0.2958\n",
      "Epoch 115, Time: 41.4389, Loss: 0.2909\n",
      "Epoch 116, Time: 41.1697, Loss: 0.2904\n",
      "Epoch 117, Time: 41.2669, Loss: 0.2892\n",
      "Epoch 118, Time: 42.0308, Loss: 0.2928\n",
      "Epoch 119, Time: 40.6368, Loss: 0.2860\n",
      "Epoch 120, Time: 41.8343, Loss: 0.2829\n"
     ]
    },
    {
     "name": "stderr",
     "output_type": "stream",
     "text": [
      "C:\\Users\\aatan\\AppData\\Local\\Temp\\ipykernel_19796\\374512516.py:8: UserWarning: To copy construct from a tensor, it is recommended to use sourceTensor.clone().detach() or sourceTensor.clone().detach().requires_grad_(True), rather than torch.tensor(sourceTensor).\n",
      "  labels = torch.tensor(labels).to(device)\n"
     ]
    },
    {
     "name": "stdout",
     "output_type": "stream",
     "text": [
      "Accuracy: 75.57%\n"
     ]
    },
    {
     "name": "stderr",
     "output_type": "stream",
     "text": [
      "C:\\Users\\aatan\\AppData\\Local\\Temp\\ipykernel_19796\\668303449.py:9: UserWarning: To copy construct from a tensor, it is recommended to use sourceTensor.clone().detach() or sourceTensor.clone().detach().requires_grad_(True), rather than torch.tensor(sourceTensor).\n",
      "  labels = torch.tensor(labels).to(device)\n"
     ]
    },
    {
     "name": "stdout",
     "output_type": "stream",
     "text": [
      "Epoch 121, Time: 40.4966, Loss: 0.2791\n",
      "Epoch 122, Time: 40.0359, Loss: 0.2830\n",
      "Epoch 123, Time: 40.7982, Loss: 0.2776\n",
      "Epoch 124, Time: 40.9428, Loss: 0.2762\n",
      "Epoch 125, Time: 40.6982, Loss: 0.2706\n",
      "Epoch 126, Time: 41.6686, Loss: 0.2718\n",
      "Epoch 127, Time: 41.2876, Loss: 0.2732\n",
      "Epoch 128, Time: 40.8738, Loss: 0.2697\n",
      "Epoch 129, Time: 41.2375, Loss: 0.2645\n",
      "Epoch 130, Time: 41.2629, Loss: 0.2637\n"
     ]
    },
    {
     "name": "stderr",
     "output_type": "stream",
     "text": [
      "C:\\Users\\aatan\\AppData\\Local\\Temp\\ipykernel_19796\\374512516.py:8: UserWarning: To copy construct from a tensor, it is recommended to use sourceTensor.clone().detach() or sourceTensor.clone().detach().requires_grad_(True), rather than torch.tensor(sourceTensor).\n",
      "  labels = torch.tensor(labels).to(device)\n"
     ]
    },
    {
     "name": "stdout",
     "output_type": "stream",
     "text": [
      "Accuracy: 77.75%\n"
     ]
    },
    {
     "name": "stderr",
     "output_type": "stream",
     "text": [
      "C:\\Users\\aatan\\AppData\\Local\\Temp\\ipykernel_19796\\668303449.py:9: UserWarning: To copy construct from a tensor, it is recommended to use sourceTensor.clone().detach() or sourceTensor.clone().detach().requires_grad_(True), rather than torch.tensor(sourceTensor).\n",
      "  labels = torch.tensor(labels).to(device)\n"
     ]
    },
    {
     "name": "stdout",
     "output_type": "stream",
     "text": [
      "Epoch 131, Time: 40.8103, Loss: 0.2607\n",
      "Epoch 132, Time: 40.4833, Loss: 0.2596\n",
      "Epoch 133, Time: 39.7670, Loss: 0.2537\n",
      "Epoch 134, Time: 40.0703, Loss: 0.2558\n",
      "Epoch 135, Time: 40.1336, Loss: 0.2531\n",
      "Epoch 136, Time: 40.9417, Loss: 0.2534\n",
      "Epoch 137, Time: 40.4899, Loss: 0.2469\n",
      "Epoch 138, Time: 41.3189, Loss: 0.2482\n",
      "Epoch 139, Time: 41.1139, Loss: 0.2475\n",
      "Epoch 140, Time: 38.6954, Loss: 0.2417\n"
     ]
    },
    {
     "name": "stderr",
     "output_type": "stream",
     "text": [
      "C:\\Users\\aatan\\AppData\\Local\\Temp\\ipykernel_19796\\374512516.py:8: UserWarning: To copy construct from a tensor, it is recommended to use sourceTensor.clone().detach() or sourceTensor.clone().detach().requires_grad_(True), rather than torch.tensor(sourceTensor).\n",
      "  labels = torch.tensor(labels).to(device)\n"
     ]
    },
    {
     "name": "stdout",
     "output_type": "stream",
     "text": [
      "Accuracy: 74.29%\n"
     ]
    },
    {
     "name": "stderr",
     "output_type": "stream",
     "text": [
      "C:\\Users\\aatan\\AppData\\Local\\Temp\\ipykernel_19796\\668303449.py:9: UserWarning: To copy construct from a tensor, it is recommended to use sourceTensor.clone().detach() or sourceTensor.clone().detach().requires_grad_(True), rather than torch.tensor(sourceTensor).\n",
      "  labels = torch.tensor(labels).to(device)\n"
     ]
    },
    {
     "name": "stdout",
     "output_type": "stream",
     "text": [
      "Epoch 141, Time: 41.5741, Loss: 0.2407\n",
      "Epoch 142, Time: 40.2661, Loss: 0.2402\n",
      "Epoch 143, Time: 41.7960, Loss: 0.2403\n",
      "Epoch 144, Time: 40.2040, Loss: 0.2361\n",
      "Epoch 145, Time: 38.6086, Loss: 0.2358\n",
      "Epoch 146, Time: 41.5329, Loss: 0.2317\n",
      "Epoch 147, Time: 41.0126, Loss: 0.2303\n",
      "Epoch 148, Time: 39.7201, Loss: 0.2246\n",
      "Epoch 149, Time: 42.2592, Loss: 0.2251\n",
      "Epoch 150, Time: 40.9774, Loss: 0.2233\n"
     ]
    },
    {
     "name": "stderr",
     "output_type": "stream",
     "text": [
      "C:\\Users\\aatan\\AppData\\Local\\Temp\\ipykernel_19796\\374512516.py:8: UserWarning: To copy construct from a tensor, it is recommended to use sourceTensor.clone().detach() or sourceTensor.clone().detach().requires_grad_(True), rather than torch.tensor(sourceTensor).\n",
      "  labels = torch.tensor(labels).to(device)\n"
     ]
    },
    {
     "name": "stdout",
     "output_type": "stream",
     "text": [
      "Accuracy: 76.61%\n"
     ]
    },
    {
     "name": "stderr",
     "output_type": "stream",
     "text": [
      "C:\\Users\\aatan\\AppData\\Local\\Temp\\ipykernel_19796\\668303449.py:9: UserWarning: To copy construct from a tensor, it is recommended to use sourceTensor.clone().detach() or sourceTensor.clone().detach().requires_grad_(True), rather than torch.tensor(sourceTensor).\n",
      "  labels = torch.tensor(labels).to(device)\n"
     ]
    },
    {
     "name": "stdout",
     "output_type": "stream",
     "text": [
      "Epoch 151, Time: 40.9936, Loss: 0.2207\n",
      "Epoch 152, Time: 40.8930, Loss: 0.2221\n",
      "Epoch 153, Time: 41.7338, Loss: 0.2197\n",
      "Epoch 154, Time: 40.6207, Loss: 0.2142\n",
      "Epoch 155, Time: 40.4146, Loss: 0.2155\n",
      "Epoch 156, Time: 39.2531, Loss: 0.2120\n",
      "Epoch 157, Time: 39.5401, Loss: 0.2088\n",
      "Epoch 158, Time: 40.5178, Loss: 0.2082\n",
      "Epoch 159, Time: 40.6989, Loss: 0.2084\n",
      "Epoch 160, Time: 40.3163, Loss: 0.2019\n"
     ]
    },
    {
     "name": "stderr",
     "output_type": "stream",
     "text": [
      "C:\\Users\\aatan\\AppData\\Local\\Temp\\ipykernel_19796\\374512516.py:8: UserWarning: To copy construct from a tensor, it is recommended to use sourceTensor.clone().detach() or sourceTensor.clone().detach().requires_grad_(True), rather than torch.tensor(sourceTensor).\n",
      "  labels = torch.tensor(labels).to(device)\n"
     ]
    },
    {
     "name": "stdout",
     "output_type": "stream",
     "text": [
      "Accuracy: 74.64%\n"
     ]
    },
    {
     "name": "stderr",
     "output_type": "stream",
     "text": [
      "C:\\Users\\aatan\\AppData\\Local\\Temp\\ipykernel_19796\\668303449.py:9: UserWarning: To copy construct from a tensor, it is recommended to use sourceTensor.clone().detach() or sourceTensor.clone().detach().requires_grad_(True), rather than torch.tensor(sourceTensor).\n",
      "  labels = torch.tensor(labels).to(device)\n"
     ]
    },
    {
     "name": "stdout",
     "output_type": "stream",
     "text": [
      "Epoch 161, Time: 41.1390, Loss: 0.2013\n",
      "Epoch 162, Time: 41.0576, Loss: 0.2031\n",
      "Epoch 163, Time: 40.3261, Loss: 0.1997\n",
      "Epoch 164, Time: 40.6159, Loss: 0.1945\n",
      "Epoch 165, Time: 41.5105, Loss: 0.1957\n",
      "Epoch 166, Time: 40.6093, Loss: 0.1935\n",
      "Epoch 167, Time: 40.3066, Loss: 0.1923\n",
      "Epoch 168, Time: 39.4017, Loss: 0.1902\n",
      "Epoch 169, Time: 40.3386, Loss: 0.1876\n",
      "Epoch 170, Time: 40.6493, Loss: 0.1904\n"
     ]
    },
    {
     "name": "stderr",
     "output_type": "stream",
     "text": [
      "C:\\Users\\aatan\\AppData\\Local\\Temp\\ipykernel_19796\\374512516.py:8: UserWarning: To copy construct from a tensor, it is recommended to use sourceTensor.clone().detach() or sourceTensor.clone().detach().requires_grad_(True), rather than torch.tensor(sourceTensor).\n",
      "  labels = torch.tensor(labels).to(device)\n"
     ]
    },
    {
     "name": "stdout",
     "output_type": "stream",
     "text": [
      "Accuracy: 76.57%\n"
     ]
    },
    {
     "name": "stderr",
     "output_type": "stream",
     "text": [
      "C:\\Users\\aatan\\AppData\\Local\\Temp\\ipykernel_19796\\668303449.py:9: UserWarning: To copy construct from a tensor, it is recommended to use sourceTensor.clone().detach() or sourceTensor.clone().detach().requires_grad_(True), rather than torch.tensor(sourceTensor).\n",
      "  labels = torch.tensor(labels).to(device)\n"
     ]
    },
    {
     "name": "stdout",
     "output_type": "stream",
     "text": [
      "Epoch 171, Time: 39.8418, Loss: 0.1829\n",
      "Epoch 172, Time: 41.2273, Loss: 0.1817\n",
      "Epoch 173, Time: 41.2821, Loss: 0.1787\n",
      "Epoch 174, Time: 39.9816, Loss: 0.1739\n",
      "Epoch 175, Time: 41.2954, Loss: 0.1770\n",
      "Epoch 176, Time: 41.3141, Loss: 0.1726\n",
      "Epoch 177, Time: 39.9322, Loss: 0.1704\n",
      "Epoch 178, Time: 41.3172, Loss: 0.1682\n",
      "Epoch 179, Time: 39.5866, Loss: 0.1735\n",
      "Epoch 180, Time: 39.2926, Loss: 0.1665\n"
     ]
    },
    {
     "name": "stderr",
     "output_type": "stream",
     "text": [
      "C:\\Users\\aatan\\AppData\\Local\\Temp\\ipykernel_19796\\374512516.py:8: UserWarning: To copy construct from a tensor, it is recommended to use sourceTensor.clone().detach() or sourceTensor.clone().detach().requires_grad_(True), rather than torch.tensor(sourceTensor).\n",
      "  labels = torch.tensor(labels).to(device)\n"
     ]
    },
    {
     "name": "stdout",
     "output_type": "stream",
     "text": [
      "Accuracy: 77.04%\n"
     ]
    },
    {
     "name": "stderr",
     "output_type": "stream",
     "text": [
      "C:\\Users\\aatan\\AppData\\Local\\Temp\\ipykernel_19796\\668303449.py:9: UserWarning: To copy construct from a tensor, it is recommended to use sourceTensor.clone().detach() or sourceTensor.clone().detach().requires_grad_(True), rather than torch.tensor(sourceTensor).\n",
      "  labels = torch.tensor(labels).to(device)\n"
     ]
    },
    {
     "name": "stdout",
     "output_type": "stream",
     "text": [
      "Epoch 181, Time: 40.7774, Loss: 0.1675\n",
      "Epoch 182, Time: 40.7065, Loss: 0.1652\n",
      "Epoch 183, Time: 40.6167, Loss: 0.1626\n",
      "Epoch 184, Time: 41.4731, Loss: 0.1584\n",
      "Epoch 185, Time: 40.8454, Loss: 0.1587\n",
      "Epoch 186, Time: 40.5396, Loss: 0.1559\n",
      "Epoch 187, Time: 41.7262, Loss: 0.1551\n",
      "Epoch 188, Time: 41.4474, Loss: 0.1537\n",
      "Epoch 189, Time: 40.2763, Loss: 0.1510\n",
      "Epoch 190, Time: 40.1089, Loss: 0.1493\n"
     ]
    },
    {
     "name": "stderr",
     "output_type": "stream",
     "text": [
      "C:\\Users\\aatan\\AppData\\Local\\Temp\\ipykernel_19796\\374512516.py:8: UserWarning: To copy construct from a tensor, it is recommended to use sourceTensor.clone().detach() or sourceTensor.clone().detach().requires_grad_(True), rather than torch.tensor(sourceTensor).\n",
      "  labels = torch.tensor(labels).to(device)\n"
     ]
    },
    {
     "name": "stdout",
     "output_type": "stream",
     "text": [
      "Accuracy: 75.79%\n"
     ]
    },
    {
     "name": "stderr",
     "output_type": "stream",
     "text": [
      "C:\\Users\\aatan\\AppData\\Local\\Temp\\ipykernel_19796\\668303449.py:9: UserWarning: To copy construct from a tensor, it is recommended to use sourceTensor.clone().detach() or sourceTensor.clone().detach().requires_grad_(True), rather than torch.tensor(sourceTensor).\n",
      "  labels = torch.tensor(labels).to(device)\n"
     ]
    },
    {
     "name": "stdout",
     "output_type": "stream",
     "text": [
      "Epoch 191, Time: 39.7570, Loss: 0.1482\n",
      "Epoch 192, Time: 39.8716, Loss: 0.1494\n",
      "Epoch 193, Time: 40.7772, Loss: 0.1482\n",
      "Epoch 194, Time: 41.1884, Loss: 0.1398\n",
      "Epoch 195, Time: 40.6372, Loss: 0.1418\n",
      "Epoch 196, Time: 40.7364, Loss: 0.1355\n",
      "Epoch 197, Time: 41.5181, Loss: 0.1395\n",
      "Epoch 198, Time: 40.6588, Loss: 0.1341\n",
      "Epoch 199, Time: 41.4072, Loss: 0.1358\n",
      "Epoch 200, Time: 41.4012, Loss: 0.1321\n"
     ]
    },
    {
     "name": "stderr",
     "output_type": "stream",
     "text": [
      "C:\\Users\\aatan\\AppData\\Local\\Temp\\ipykernel_19796\\374512516.py:8: UserWarning: To copy construct from a tensor, it is recommended to use sourceTensor.clone().detach() or sourceTensor.clone().detach().requires_grad_(True), rather than torch.tensor(sourceTensor).\n",
      "  labels = torch.tensor(labels).to(device)\n"
     ]
    },
    {
     "name": "stdout",
     "output_type": "stream",
     "text": [
      "Accuracy: 72.25%\n"
     ]
    }
   ],
   "source": [
    "train_model(model, train_loader, optimizer, criterion, device, epochs=200)"
   ]
  },
  {
   "cell_type": "code",
   "execution_count": null,
   "id": "d67a044e-c236-41b5-8a09-6a5ae0df9a88",
   "metadata": {},
   "outputs": [],
   "source": [
    "# Evaluation Loop\n",
    "def evaluate_model(model, test_loader, device):\n",
    "    model.eval()\n",
    "    predictions, actuals = [], []\n",
    "    with torch.no_grad():\n",
    "        for texts, labels in test_loader:\n",
    "            # Move labels to GPU\n",
    "            labels = torch.tensor(labels).to(device)\n",
    "            # Forward pass with inputs on GPU\n",
    "            outputs = model(texts, device=device)\n",
    "            #print(f\"outputs: {outputs}\")\n",
    "            preds = torch.argmax(outputs, dim=1).cpu().numpy()\n",
    "            predictions.extend(preds)\n",
    "            actuals.extend(labels.cpu().numpy())\n",
    "    # print(f\"Actual: {actuals}\")\n",
    "    # print(f\"Predictions: {predictions}\")\n",
    "    acc = accuracy_score(actuals, predictions)\n",
    "    print(f\"Test Accuracy: {acc * 100:.2f}%\")"
   ]
  },
  {
   "cell_type": "code",
   "execution_count": null,
   "id": "6b28b507-7e56-45df-98c1-dd2e1e0cf916",
   "metadata": {
    "scrolled": true
   },
   "outputs": [],
   "source": [
    "evaluate_model(model, train_loader, device)"
   ]
  },
  {
   "cell_type": "code",
   "execution_count": null,
   "id": "7fb1e5f4-6d8c-43f0-b0f5-1dd8e98c96bf",
   "metadata": {
    "scrolled": true
   },
   "outputs": [],
   "source": [
    "# Get one batch from the test loader\n",
    "texts, labels = next(iter(test_loader))\n",
    "\n",
    "# Print the data\n",
    "print(\"Texts:\", texts)\n",
    "print(\"Labels:\", labels)"
   ]
  },
  {
   "cell_type": "code",
   "execution_count": null,
   "id": "5fee8a8e-87ee-4cb0-8130-f04359e8e18b",
   "metadata": {},
   "outputs": [],
   "source": [
    "outputs = model(texts, device=device)"
   ]
  },
  {
   "cell_type": "code",
   "execution_count": null,
   "id": "56c0c16b-ad62-43dc-8c38-2c414067780f",
   "metadata": {},
   "outputs": [],
   "source": [
    "outputs"
   ]
  },
  {
   "cell_type": "code",
   "execution_count": null,
   "id": "1ca0ee37-12c5-4f54-8766-a5db478fa4ef",
   "metadata": {},
   "outputs": [],
   "source": [
    "preds = torch.argmax(outputs, dim=1).cpu().numpy()\n",
    "preds"
   ]
  },
  {
   "cell_type": "code",
   "execution_count": null,
   "id": "f681a6c9-3e76-4f4a-91e7-b1452847abbc",
   "metadata": {
    "scrolled": true
   },
   "outputs": [],
   "source": [
    "evaluate_model(model, train_loader, device)"
   ]
  },
  {
   "cell_type": "code",
   "execution_count": null,
   "id": "3fe91dc4-6019-4e66-ae9e-6e2e844b759c",
   "metadata": {},
   "outputs": [],
   "source": [
    "# Save the entire model\n",
    "torch.save(model, \"detecting_llm_full_v2.pth\")\n",
    "print(\"Entire model saved successfully!\")"
   ]
  },
  {
   "cell_type": "code",
   "execution_count": null,
   "id": "75b1640b-d8ff-4185-b006-a5c1bc8f1850",
   "metadata": {},
   "outputs": [],
   "source": [
    "# Load the entire model\n",
    "model = torch.load(\"detecting_llm_full_v2.pth\")\n",
    "model.to(device)  # Move model to the appropriate device\n",
    "print(\"Entire model loaded successfully!\")"
   ]
  },
  {
   "cell_type": "code",
   "execution_count": null,
   "id": "ed3af6c7-c895-40da-99ac-ba625c568c45",
   "metadata": {},
   "outputs": [],
   "source": []
  }
 ],
 "metadata": {
  "kernelspec": {
   "display_name": "Python 3 (ipykernel)",
   "language": "python",
   "name": "python3"
  },
  "language_info": {
   "codemirror_mode": {
    "name": "ipython",
    "version": 3
   },
   "file_extension": ".py",
   "mimetype": "text/x-python",
   "name": "python",
   "nbconvert_exporter": "python",
   "pygments_lexer": "ipython3",
   "version": "3.10.15"
  }
 },
 "nbformat": 4,
 "nbformat_minor": 5
}
